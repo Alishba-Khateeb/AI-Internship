{
  "nbformat": 4,
  "nbformat_minor": 0,
  "metadata": {
    "colab": {
      "provenance": []
    },
    "kernelspec": {
      "name": "python3",
      "display_name": "Python 3"
    },
    "language_info": {
      "name": "python"
    }
  },
  "cells": [
    {
      "cell_type": "markdown",
      "source": [
        "# ***Importing Libraries:***"
      ],
      "metadata": {
        "id": "5uUgvsewZIM_"
      }
    },
    {
      "cell_type": "code",
      "source": [
        "from bs4 import BeautifulSoup\n",
        "import requests\n",
        "from urllib.parse import urljoin"
      ],
      "metadata": {
        "id": "JLUQeTQQVgp-"
      },
      "execution_count": 1,
      "outputs": []
    },
    {
      "cell_type": "markdown",
      "source": [
        "#***Website URL Setup:***\n",
        "url: This is the website you want to read/scrape.\n",
        "\n",
        "headers: We pretend to be a browser (to avoid getting blocked). This is like saying:\n",
        "\n",
        "\"Hi! I'm Chrome. Can I see the page?\"\n",
        "\n",
        "This is a job finding site named \"dice\"."
      ],
      "metadata": {
        "id": "7vEU3pSuZUxq"
      }
    },
    {
      "cell_type": "code",
      "execution_count": 2,
      "metadata": {
        "id": "BBmVxEATU2uN"
      },
      "outputs": [],
      "source": [
        "url = \"https://www.dice.com/jobs?q=software+developer&location=United+States\"\n",
        "headers = {\n",
        "    \"User-Agent\": \"Mozilla/5.0\"\n",
        "}"
      ]
    },
    {
      "cell_type": "markdown",
      "source": [
        "#***HTML Parser:***\n",
        "The HTML parser is the tool that reads the raw HTML code (all the tags and text) and converts it into a structured format (called a \"parse tree\" or \"DOM tree\").\n",
        "\n",
        "This makes it easy to find elements like h1, p, img, etc., by their tags, classes, or attributes."
      ],
      "metadata": {
        "id": "pIAUlo9iaVgo"
      }
    },
    {
      "cell_type": "code",
      "source": [
        "response = requests.get(url, headers=headers)\n",
        "soup = BeautifulSoup(response.text, 'html.parser')"
      ],
      "metadata": {
        "id": "JVUI_vu3VEEO"
      },
      "execution_count": 3,
      "outputs": []
    },
    {
      "cell_type": "code",
      "source": [
        "from bs4 import BeautifulSoup as bs"
      ],
      "metadata": {
        "id": "vIASugHREkY4"
      },
      "execution_count": 4,
      "outputs": []
    },
    {
      "cell_type": "code",
      "source": [
        "soup = bs(response.text)\n",
        "type(soup) #here soup object act as parser like it takes the raw html tags and convert it into parsed tree.\n",
        "soup.find('title').text\n"
      ],
      "metadata": {
        "colab": {
          "base_uri": "https://localhost:8080/",
          "height": 36
        },
        "id": "wLuZQtRHEcnd",
        "outputId": "8cc2be2f-90b9-4c8b-8dc0-21f8b6a194f5"
      },
      "execution_count": 5,
      "outputs": [
        {
          "output_type": "execute_result",
          "data": {
            "text/plain": [
              "'Search Jobs | Dice.com'"
            ],
            "application/vnd.google.colaboratory.intrinsic+json": {
              "type": "string"
            }
          },
          "metadata": {},
          "execution_count": 5
        }
      ]
    },
    {
      "cell_type": "markdown",
      "source": [
        "#***Web Scraping Using BeautifulSoup:***"
      ],
      "metadata": {
        "id": "W2F0wZYxahpu"
      }
    },
    {
      "cell_type": "code",
      "source": [
        "import pandas as pd\n",
        "from bs4 import BeautifulSoup\n",
        "\n",
        "# Assuming `soup` is already created using BeautifulSoup and contains the HTML\n",
        "job_cards = soup.find_all(\"div\", class_=\"flex flex-col gap-6 overflow-hidden rounded-lg border bg-surface-primary p-6 relative mx-auto h-full w-full border-transparent shadow-none transition duration-300 ease-in-out sm:border-zinc-100 sm:shadow\")\n",
        "\n",
        "# List to store job info\n",
        "job_list = []\n",
        "\n",
        "for job in job_cards:\n",
        "    try:\n",
        "        title = job.find(\"a\", class_=\"outline-offset-2 outline-stroke-focus forced-colors:outline-[Highlight] items-center gap-1 visited:text-interaction-visited outline-0 line-clamp-1 shrink grow basis-0 text-xl font-semibold text-zinc-800 no-underline hover:underline\").text.strip()\n",
        "    except:\n",
        "        title = \"N/A\"\n",
        "\n",
        "    try:\n",
        "        company = job.find(\"p\", class_=\"mb-0 line-clamp-2 text-sm sm:line-clamp-1\").text.strip()\n",
        "    except:\n",
        "        company = \"N/A\"\n",
        "\n",
        "    try:\n",
        "        location = job.find(\"p\", class_=\"text-sm font-normal text-zinc-600\").text.strip()\n",
        "    except:\n",
        "        location = \"N/A\"\n",
        "\n",
        "    try:\n",
        "        description = job.find(\"p\", class_=\"line-clamp-2 h-10 shrink grow basis-0 text-sm font-normal text-zinc-900\").text.strip()\n",
        "    except:\n",
        "        description = \"N/A\"\n",
        "\n",
        "    try:\n",
        "        job_url = job.find(\"a\", {\"data-testid\": \"job-search-job-detail-link\"})[\"href\"]\n",
        "    except:\n",
        "        job_url = \"N/A\"\n",
        "\n",
        "    # Append to the list\n",
        "    job_list.append([title, company, location, description, job_url])\n",
        "\n",
        "# Create DataFrame\n",
        "df = pd.DataFrame(job_list, columns=[\"Title\", \"Company\", \"Location\", \"Description\", \"URL\"])\n",
        "\n",
        "# Print DataFrame\n",
        "print(df)\n",
        "\n",
        "# Optional: Save to CSV\n",
        "# df.to_csv(\"dice_jobs.csv\", index=False)\n"
      ],
      "metadata": {
        "colab": {
          "base_uri": "https://localhost:8080/"
        },
        "id": "tPF2Xxj--JFG",
        "outputId": "77ae98b9-7a36-4592-b042-54bce85aa0ee"
      },
      "execution_count": 6,
      "outputs": [
        {
          "output_type": "stream",
          "name": "stdout",
          "text": [
            "                                                Title  \\\n",
            "0           Senior Software Developer (cleared)-61525   \n",
            "1                           Senior Software Developer   \n",
            "2                           Senior Software Developer   \n",
            "3                       Appian Software Developer III   \n",
            "4     Principal Software Developer - Lunar Permanence   \n",
            "5                               Software Developer IV   \n",
            "6                    Software Developer - Entry level   \n",
            "7                    Software Developer - Entry level   \n",
            "8                                  Software Developer   \n",
            "9               Embedded DevSecOps Software Developer   \n",
            "10                         LabVIEW Software Developer   \n",
            "11                       Sr Software Developer (.Net)   \n",
            "12                      Full Stack Software Developer   \n",
            "13  Senior Frontend Software Developer - New Glenn...   \n",
            "14                                 Software Developer   \n",
            "15                                 Software Developer   \n",
            "16                                 Software Developer   \n",
            "17                          Senior Software Developer   \n",
            "18                            Lead Software Developer   \n",
            "19          Mid to Senior Embedded Software Developer   \n",
            "20          Mid to Senior Embedded Software Developer   \n",
            "\n",
            "                              Company                             Location  \\\n",
            "0                Syneren Technologies                 Alexandria, Virginia   \n",
            "1                  Prodware Solutions  Hybrid in Charlotte, North Carolina   \n",
            "2                             Pearson                  Hoboken, New Jersey   \n",
            "3                                USAC     Washington, District of Columbia   \n",
            "4                    Blue Origin, LLC                  Seattle, Washington   \n",
            "5                  Nakupuna Companies                  Arlington, Virginia   \n",
            "6                              Leidos                     Lawton, Oklahoma   \n",
            "7                              Leidos                     Lawton, Oklahoma   \n",
            "8                         Robert Half                  Chantilly, Virginia   \n",
            "9                     Softworld, Inc.           Sterling Heights, Michigan   \n",
            "10            JS Consulting Solutions        Hybrid in Clearwater, Florida   \n",
            "11             Dia Software Solutions                        Austin, Texas   \n",
            "12                Booz Allen Hamilton                   Bethesda, Maryland   \n",
            "13                   Blue Origin, LLC                  Seattle, Washington   \n",
            "14                        Robert Half                   Melbourne, Florida   \n",
            "15                        Robert Half                         Dublin, Ohio   \n",
            "16                        Robert Half           Philadelphia, Pennsylvania   \n",
            "17                Booz Allen Hamilton     Washington, District of Columbia   \n",
            "18                        Robert Half                  Clearwater, Florida   \n",
            "19  SimVentions, Inc - Glassdoor  4.6                   Dahlgren, Virginia   \n",
            "20  SimVentions, Inc - Glassdoor  4.6                   Dahlgren, Virginia   \n",
            "\n",
            "                                          Description  \\\n",
            "0   Job Title: Sr. Software Developer (Full-Stack)...   \n",
            "1   TITLE: Software Developer Duration: 1+ Years C...   \n",
            "2   Key Responsibilities : Lead the design and imp...   \n",
            "3   Why Work Here?  Our mission to achieve univers...   \n",
            "4   Application close date: Applications will be a...   \n",
            "5   Overview Nakupuna Consulting is seeking a Soft...   \n",
            "6   Description The National Security Sector at Le...   \n",
            "7   Description The National Security Sector at Le...   \n",
            "8   Description We are looking for a skilled Softw...   \n",
            "9   Job Title: Embedded DevSecOps Software Develop...   \n",
            "10  - LabVIEW Software Developer  Project Location...   \n",
            "11  Hi, Greetings from DIA SOFTWARE SOLUTIONS LLC!...   \n",
            "12  Job Number: R0220139 Full Stack Software Devel...   \n",
            "13  Application close date: Applications will be a...   \n",
            "14  Description We are looking for a skilled Softw...   \n",
            "15  Description Reports directly to the Applicatio...   \n",
            "16  Description Position Overview: We are seeking ...   \n",
            "17  Job Number: R0220036 Software Developer, Senio...   \n",
            "18  Description Ready to ignite innovation and lea...   \n",
            "19  Overview:  SimVentions is looking for a mid to...   \n",
            "20  Overview: SimVentions is looking for a mid to ...   \n",
            "\n",
            "                                                  URL  \n",
            "0   https://www.dice.com/job-detail/6c2abe20-e215-...  \n",
            "1   https://www.dice.com/job-detail/db2c1619-52ab-...  \n",
            "2   https://www.dice.com/job-detail/2ba64137-6718-...  \n",
            "3   https://www.dice.com/job-detail/7d712654-4d92-...  \n",
            "4   https://www.dice.com/job-detail/b8d2dd5f-573f-...  \n",
            "5   https://www.dice.com/job-detail/b760e9f1-1311-...  \n",
            "6   https://www.dice.com/apply-redirect?applyData=...  \n",
            "7   https://www.dice.com/apply-redirect?applyData=...  \n",
            "8   https://www.dice.com/job-detail/5ca51685-787f-...  \n",
            "9   https://www.dice.com/job-detail/35486ecc-0e12-...  \n",
            "10  https://www.dice.com/job-detail/63d96f2d-7515-...  \n",
            "11  https://www.dice.com/job-detail/7e980589-ab9b-...  \n",
            "12  https://www.dice.com/job-detail/f8044bdf-b31f-...  \n",
            "13  https://www.dice.com/job-detail/628fc0b7-6f58-...  \n",
            "14  https://www.dice.com/job-detail/8ac118f2-ff15-...  \n",
            "15  https://www.dice.com/job-detail/c6b481fa-0d8a-...  \n",
            "16  https://www.dice.com/job-detail/c6ce28e0-4aa6-...  \n",
            "17  https://www.dice.com/job-detail/47a19280-0105-...  \n",
            "18  https://www.dice.com/job-detail/b51ca9b4-75db-...  \n",
            "19  https://www.dice.com/apply-redirect?applyData=...  \n",
            "20  https://www.dice.com/apply-redirect?applyData=...  \n"
          ]
        }
      ]
    },
    {
      "cell_type": "markdown",
      "source": [
        "#***Saving Data into SQLite Database:***"
      ],
      "metadata": {
        "id": "_JW5qL3BapKI"
      }
    },
    {
      "cell_type": "code",
      "source": [
        "import sqlite3"
      ],
      "metadata": {
        "id": "GNGizOy2DFC1"
      },
      "execution_count": 7,
      "outputs": []
    },
    {
      "cell_type": "markdown",
      "source": [
        "#***Creating Table and Connecting Databse:***"
      ],
      "metadata": {
        "id": "nr2wzHVhaxyw"
      }
    },
    {
      "cell_type": "code",
      "source": [
        "# Connect to (or create) SQLite database\n",
        "conn = sqlite3.connect('data.db')\n",
        "cursor = conn.cursor()\n",
        "\n",
        "# Create table\n",
        "cursor.execute('''CREATE TABLE job_cards (id INTEGER PRIMARY KEY AUTOINCREMENT,title TEXT, company TEXT, location TEXT,description TEXT,url TEXT)''')\n",
        "conn.commit()\n"
      ],
      "metadata": {
        "id": "totmWLp1Bvvu"
      },
      "execution_count": 10,
      "outputs": []
    },
    {
      "cell_type": "markdown",
      "source": [
        "#***Inserting Data into Database:***"
      ],
      "metadata": {
        "id": "s54do0sNa6Xd"
      }
    },
    {
      "cell_type": "code",
      "source": [
        "for job in job_list:\n",
        "    title, company, location, description, url = job\n",
        "    cursor.execute('''\n",
        "        INSERT INTO job_cards (title, company, location, description, url)\n",
        "        VALUES (?, ?, ?, ?, ?)\n",
        "    ''', (title, company, location, description, url))\n",
        "\n",
        "# Step 5: Commit and close the connection\n",
        "conn.commit()\n",
        "\n",
        "\n",
        "# STEP 4: Commit changes and close connection\n",
        "conn.commit()"
      ],
      "metadata": {
        "id": "hEhiTEjUKh4y"
      },
      "execution_count": 20,
      "outputs": []
    },
    {
      "cell_type": "code",
      "source": [
        "conn.close()"
      ],
      "metadata": {
        "id": "s8TmnSzNMJAD"
      },
      "execution_count": 21,
      "outputs": []
    }
  ]
}